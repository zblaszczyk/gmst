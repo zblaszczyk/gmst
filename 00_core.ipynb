{
 "cells": [
  {
   "cell_type": "code",
   "execution_count": 1,
   "metadata": {},
   "outputs": [],
   "source": [
    "# default_exp core"
   ]
  },
  {
   "cell_type": "markdown",
   "metadata": {},
   "source": [
    "# module name here\n",
    "\n",
    "> API details."
   ]
  },
  {
   "cell_type": "code",
   "execution_count": 2,
   "metadata": {},
   "outputs": [],
   "source": [
    "#hide\n",
    "from nbdev.showdoc import *"
   ]
  },
  {
   "cell_type": "code",
   "execution_count": 4,
   "metadata": {},
   "outputs": [],
   "source": [
    "import numpy as np\n",
    "import random\n",
    "import sys\n",
    "\n",
    "from sklearn.linear_model import LinearRegression\n",
    "from sklearn.neighbors import kneighbors_graph"
   ]
  },
  {
   "cell_type": "code",
   "execution_count": 6,
   "metadata": {},
   "outputs": [],
   "source": [
    "def mean_sample_length(dataset, n_points, n_neighbors, n_resamplings):\n",
    "    \"\"\" Samples `n_points` from `dataset` `n_resampling` times and calculates \n",
    "        the mean total edge length (i.e. the sum of lengths of all the edges) \n",
    "        of the resulting kNN graphs for k = `n_neighbours`. \"\"\"\n",
    "    length = 0\n",
    "    for _ in range(n_resamplings):\n",
    "        sample = random.sample(range(len(dataset)), n_points)\n",
    "        sample_kNN = kneighbors_graph(dataset[sample], 5, mode='distance', include_self=False, n_jobs=-1)\n",
    "        length += np.sum(sample_kNN)\n",
    "    return length/n_resamplings"
   ]
  },
  {
   "cell_type": "code",
   "execution_count": 7,
   "metadata": {},
   "outputs": [],
   "source": [
    "def estimator(dataset, routine, n_neighbors=5, n_runs=1, n_resamplings=10):\n",
    "    \"\"\" Estimates the intrinsic dimension of `dataset` based on the length of its kNN graph, \n",
    "        where k = `n_neighbors`. \"\"\"\n",
    "    routine_length = len(routine)\n",
    "    estimates = []\t\n",
    "    X = np.ones((routine_length, 2))\n",
    "    X[:, 0] = [np.log(x) for x in routine]\n",
    "    for _ in range(n_runs):\n",
    "        mean_lengths = np.zeros(routine_length)\n",
    "        for index, n_points in enumerate(routine):\n",
    "            mean_lengths[index] = np.log(mean_sample_length(dataset, n_points, n_neighbors, n_resamplings)) \n",
    "        model = LinearRegression().fit(X, mean_lengths)\n",
    "        estimates.append(1/(1-model.coef_[0]))\n",
    "    return int(round(sum(estimates)/n_runs))"
   ]
  },
  {
   "cell_type": "code",
   "execution_count": null,
   "metadata": {},
   "outputs": [],
   "source": []
  }
 ],
 "metadata": {
  "kernelspec": {
   "display_name": "Python 3",
   "language": "python",
   "name": "python3"
  },
  "language_info": {
   "codemirror_mode": {
    "name": "ipython",
    "version": 3
   },
   "file_extension": ".py",
   "mimetype": "text/x-python",
   "name": "python",
   "nbconvert_exporter": "python",
   "pygments_lexer": "ipython3",
   "version": "3.6.8"
  }
 },
 "nbformat": 4,
 "nbformat_minor": 2
}
